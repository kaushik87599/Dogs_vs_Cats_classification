{
 "cells": [
  {
   "cell_type": "code",
   "execution_count": 9,
   "id": "a0e63da0",
   "metadata": {},
   "outputs": [],
   "source": [
    "import matplotlib.pyplot as plt\n",
    "import matplotlib.pyplot as plt\n",
    "from attention_block import AttentionBlock\n",
    "import torch"
   ]
  },
  {
   "cell_type": "code",
   "execution_count": 10,
   "id": "06ebcae5",
   "metadata": {},
   "outputs": [
    {
     "name": "stdout",
     "output_type": "stream",
     "text": [
      "Attention weights for image 1:\n",
      " tensor([0.4458, 0.4844, 0.4919, 0.4906, 0.5063, 0.4657, 0.5064, 0.4460, 0.4948,\n",
      "        0.4488, 0.5587, 0.5529, 0.5273, 0.5005, 0.4579, 0.5444, 0.4870, 0.4980,\n",
      "        0.5525, 0.5310, 0.4390, 0.4896, 0.5363, 0.4440, 0.4521, 0.5383, 0.5179,\n",
      "        0.5010, 0.5090, 0.5371, 0.4541, 0.4589, 0.4571, 0.4684, 0.5216, 0.5361,\n",
      "        0.5018, 0.4815, 0.5381, 0.4770, 0.5546, 0.4963, 0.5470, 0.5168, 0.4329,\n",
      "        0.5006, 0.4738, 0.5486, 0.5443, 0.4617, 0.5383, 0.5678, 0.4700, 0.4905,\n",
      "        0.5094, 0.5443, 0.4674, 0.5534, 0.4772, 0.5294, 0.5363, 0.5461, 0.5090,\n",
      "        0.5432], grad_fn=<SelectBackward0>)\n",
      "Attention weights for image 2:\n",
      " tensor([0.4449, 0.4776, 0.4887, 0.4919, 0.5046, 0.4662, 0.5025, 0.4424, 0.4910,\n",
      "        0.4496, 0.5577, 0.5534, 0.5289, 0.5023, 0.4549, 0.5433, 0.4832, 0.4988,\n",
      "        0.5513, 0.5356, 0.4394, 0.4908, 0.5376, 0.4442, 0.4475, 0.5346, 0.5144,\n",
      "        0.4981, 0.5048, 0.5393, 0.4552, 0.4574, 0.4562, 0.4679, 0.5154, 0.5374,\n",
      "        0.4973, 0.4834, 0.5370, 0.4803, 0.5560, 0.4953, 0.5454, 0.5161, 0.4324,\n",
      "        0.5067, 0.4726, 0.5499, 0.5487, 0.4604, 0.5381, 0.5707, 0.4697, 0.4944,\n",
      "        0.5096, 0.5401, 0.4702, 0.5588, 0.4766, 0.5286, 0.5336, 0.5426, 0.5082,\n",
      "        0.5373], grad_fn=<SelectBackward0>)\n"
     ]
    }
   ],
   "source": [
    "\n",
    "\n",
    "# Dummy input (batch_size=2, channels=64, H=32, W=32)\n",
    "dummy_input = torch.randn(2, 64, 32, 32)\n",
    "\n",
    "# Instantiate attention block\n",
    "attn_block = AttentionBlock(in_channels=64, out_channels=64)\n",
    "\n",
    "# Forward pass\n",
    "output = attn_block(dummy_input)\n",
    "\n",
    "# Print attention weights for both samples in the batch\n",
    "print(\"Attention weights for image 1:\\n\", attn_block.attention_weights[0])\n",
    "print(\"Attention weights for image 2:\\n\", attn_block.attention_weights[1])\n"
   ]
  },
  {
   "cell_type": "code",
   "execution_count": 16,
   "id": "e358a032",
   "metadata": {},
   "outputs": [
    {
     "data": {
      "image/png": "[encoded data removed]",
      "text/plain": [
       "<Figure size 1000x300 with 1 Axes>"
      ]
     },
     "metadata": {},
     "output_type": "display_data"
    }
   ],
   "source": [
    "from torch import nn\n",
    "# prints plot of only the global average pooling weights\n",
    "with torch.no_grad():\n",
    "    # Get the global average pooled features for the first image in the batch\n",
    "    gap_weights = attn_block.sequeeze(dummy_input)[0].squeeze().cpu().numpy()\n",
    "    plt.figure(figsize=(10, 3))\n",
    "    plt.bar(range(len(gap_weights)), gap_weights)\n",
    "    plt.title(\"Global Average Pooling Weights for Image 1\")\n",
    "    plt.xlabel(\"Channel\")\n",
    "    plt.ylabel(\"GAP Value\")\n",
    "    plt.grid(True)\n",
    "    plt.show()\n",
    "\n"
   ]
  },
  {
   "cell_type": "code",
   "execution_count": null,
   "id": "86054b0f",
   "metadata": {},
   "outputs": [],
   "source": [
    "\n",
    "# Print attention weights for both samples in the batch\n",
    "weights = attn_block.attention_weights[0].detach().cpu().numpy()\n",
    "plt.figure(figsize=(10, 3))\n",
    "plt.bar(range(len(weights)), weights)\n",
    "plt.title(\"SE Attention Weights for Image 1\")\n",
    "plt.xlabel(\"Channel\")\n",
    "plt.ylabel(\"Weight\")\n",
    "plt.ylim(0, 1)\n",
    "plt.grid(True)\n",
    "plt.show()\n"
   ]
  },
  {
   "cell_type": "code",
   "execution_count": null,
   "id": "fefb1e45",
   "metadata": {},
   "outputs": [],
   "source": [
    "    "
   ]
  }
 ],
 "metadata": {
  "kernelspec": {
   "display_name": ".venv",
   "language": "python",
   "name": "python3"
  },
  "language_info": {
   "codemirror_mode": {
    "name": "ipython",
    "version": 3
   },
   "file_extension": ".py",
   "mimetype": "text/x-python",
   "name": "python",
   "nbconvert_exporter": "python",
   "pygments_lexer": "ipython3",
   "version": "3.13.3"
  }
 },
 "nbformat": 4,
 "nbformat_minor": 5
}
